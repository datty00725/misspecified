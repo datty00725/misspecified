{
 "cells": [
  {
   "attachments": {},
   "cell_type": "markdown",
   "metadata": {},
   "source": [
    "%function [f,p] = olrp(beta,A,B,Q,R,W)  \n",
    "%%OLRP can have arguments: (beta,A,B,Q,R) if there are no cross products  \n",
    "%     (i.e. W=0).  Set beta=1, if there is no discounting.  \n",
    "%   \n",
    "%     OLRP calculates f of the feedback law:  \n",
    "%                 \n",
    "%\t\tu = -fx  \n",
    "%    \n",
    "%  that maximizes the function:  \n",
    "%  \n",
    "%          sum {beta^t [x'Qx + u'Ru +2x'Wu] }  \n",
    "%    \n",
    "%  subject to   \n",
    "%\t\tx[t+1] = Ax[t] + Bu[t]   \n",
    "%  \n",
    "%  where x is the nx1 vector of states, u is the kx1 vector of controls,  \n",
    "%  A is nxn, B is nxk, Q is nxn, R is kxk, W is nxk.  \n",
    "%                  \n",
    "%    Also returned is p, the steady-state solution to the associated   \n",
    "%  discrete matrix Riccati equation.  \n",
    "%\n"
   ]
  },
  {
   "attachments": {},
   "cell_type": "markdown",
   "metadata": {},
   "source": [
    "orlpは最適線形規制問題（Optimal Linear Regulation Problem）の略\n"
   ]
  },
  {
   "cell_type": "code",
   "execution_count": 93,
   "metadata": {},
   "outputs": [],
   "source": [
    "import numpy as np\n",
    "from numpy import dot, eye\n",
    "from math import sqrt\n",
    "from killergraphfuncs import olrp,doubleo"
   ]
  },
  {
   "attachments": {},
   "cell_type": "markdown",
   "metadata": {},
   "source": [
    "SciPyのlinalg（線形代数）モジュールから、逆行列を計算するinv関数、連立一次方程式を解くsolve関数、固有値を計算するeig関数をインポート"
   ]
  },
  {
   "cell_type": "code",
   "execution_count": 94,
   "metadata": {},
   "outputs": [],
   "source": [
    "from scipy.linalg import inv,solve,eig"
   ]
  },
  {
   "cell_type": "code",
   "execution_count": 95,
   "metadata": {},
   "outputs": [],
   "source": [
    "def olrp(beta, A, B, Q, R, W=None, tol=1e-6, max_iter=1000):\n",
    "    return "
   ]
  },
  {
   "attachments": {},
   "cell_type": "markdown",
   "metadata": {},
   "source": [
    "適当に行列を指定"
   ]
  },
  {
   "cell_type": "code",
   "execution_count": 96,
   "metadata": {},
   "outputs": [],
   "source": [
    "A, B, Q, R = np.zeros((4, 4, 3))\n",
    "W = None\n",
    "beta = 0\n",
    "max_iter = 1000\n",
    "tol = 1e-6"
   ]
  },
  {
   "attachments": {},
   "cell_type": "markdown",
   "metadata": {},
   "source": [
    "# ここから書き換え開始"
   ]
  },
  {
   "attachments": {},
   "cell_type": "markdown",
   "metadata": {},
   "source": [
    "行列Aの形状（つまり行数と列数）の最大値を取得"
   ]
  },
  {
   "cell_type": "code",
   "execution_count": 97,
   "metadata": {},
   "outputs": [],
   "source": [
    "m = max(A.shape)\n"
   ]
  },
  {
   "cell_type": "code",
   "execution_count": 98,
   "metadata": {},
   "outputs": [
    {
     "name": "stdout",
     "output_type": "stream",
     "text": [
      "4\n",
      "[[0. 0. 0.]\n",
      " [0. 0. 0.]\n",
      " [0. 0. 0.]\n",
      " [0. 0. 0.]]\n",
      "3\n"
     ]
    }
   ],
   "source": [
    "print(m)\n",
    "print(A)\n",
    "Ac,Ab = A.shape\n",
    "print(Ab)\n",
    "#このように指定すると行数、列数を取り出せる。"
   ]
  },
  {
   "attachments": {},
   "cell_type": "markdown",
   "metadata": {},
   "source": [
    "from matlab,[rb,cb]=size(B);  \n",
    "これは行列Bの行数、列数を抜き出している"
   ]
  },
  {
   "cell_type": "code",
   "execution_count": 99,
   "metadata": {},
   "outputs": [],
   "source": [
    "rc, cb = B.shape"
   ]
  },
  {
   "attachments": {},
   "cell_type": "markdown",
   "metadata": {},
   "source": [
    "from matlab,  \n",
    "if nargin==5; W=zeros(m,cb); end;  \n",
    "これは引数の数が5個である、すなわちW=Noneの時、Wにm×cbの0行列を代入することを書いている"
   ]
  },
  {
   "cell_type": "code",
   "execution_count": 100,
   "metadata": {},
   "outputs": [],
   "source": [
    "\n",
    "if W is None:\n",
    "    W = np.zeros((m, cb))\n"
   ]
  },
  {
   "cell_type": "code",
   "execution_count": 101,
   "metadata": {},
   "outputs": [
    {
     "name": "stdout",
     "output_type": "stream",
     "text": [
      "[[0. 0. 0.]\n",
      " [0. 0. 0.]\n",
      " [0. 0. 0.]\n",
      " [0. 0. 0.]]\n"
     ]
    }
   ],
   "source": [
    "print(W)"
   ]
  },
  {
   "attachments": {},
   "cell_type": "markdown",
   "metadata": {},
   "source": [
    "from matlab,  \n",
    "if min(abs(eig(R)))>1e-5;  \n",
    "Rの固有値を計算し、その絶対値の最小値が閾値以上ならという意味"
   ]
  },
  {
   "cell_type": "code",
   "execution_count": 102,
   "metadata": {},
   "outputs": [
    {
     "ename": "ValueError",
     "evalue": "expected square matrix",
     "output_type": "error",
     "traceback": [
      "\u001b[1;31m---------------------------------------------------------------------------\u001b[0m",
      "\u001b[1;31mValueError\u001b[0m                                Traceback (most recent call last)",
      "Cell \u001b[1;32mIn[102], line 1\u001b[0m\n\u001b[1;32m----> 1\u001b[0m \u001b[39mif\u001b[39;00m np\u001b[39m.\u001b[39mmin(np\u001b[39m.\u001b[39mabs(eig(R))) \u001b[39m>\u001b[39m \u001b[39m1e-5\u001b[39m:\n\u001b[0;32m      2\u001b[0m     A \u001b[39m=\u001b[39m sqrt(beta) \u001b[39m*\u001b[39m (A \u001b[39m-\u001b[39m B\u001b[39m.\u001b[39mdot(solve(R, W\u001b[39m.\u001b[39mT)))\n\u001b[0;32m      3\u001b[0m     B \u001b[39m=\u001b[39m sqrt(beta) \u001b[39m*\u001b[39m B\n",
      "File \u001b[1;32mc:\\Users\\theko\\Desktop\\UEC\\岩崎研\\ミニプロジェクト_20230417\\.venv\\lib\\site-packages\\scipy\\linalg\\_decomp.py:216\u001b[0m, in \u001b[0;36meig\u001b[1;34m(a, b, left, right, overwrite_a, overwrite_b, check_finite, homogeneous_eigvals)\u001b[0m\n\u001b[0;32m    214\u001b[0m a1 \u001b[39m=\u001b[39m _asarray_validated(a, check_finite\u001b[39m=\u001b[39mcheck_finite)\n\u001b[0;32m    215\u001b[0m \u001b[39mif\u001b[39;00m \u001b[39mlen\u001b[39m(a1\u001b[39m.\u001b[39mshape) \u001b[39m!=\u001b[39m \u001b[39m2\u001b[39m \u001b[39mor\u001b[39;00m a1\u001b[39m.\u001b[39mshape[\u001b[39m0\u001b[39m] \u001b[39m!=\u001b[39m a1\u001b[39m.\u001b[39mshape[\u001b[39m1\u001b[39m]:\n\u001b[1;32m--> 216\u001b[0m     \u001b[39mraise\u001b[39;00m \u001b[39mValueError\u001b[39;00m(\u001b[39m'\u001b[39m\u001b[39mexpected square matrix\u001b[39m\u001b[39m'\u001b[39m)\n\u001b[0;32m    217\u001b[0m overwrite_a \u001b[39m=\u001b[39m overwrite_a \u001b[39mor\u001b[39;00m (_datacopied(a1, a))\n\u001b[0;32m    218\u001b[0m \u001b[39mif\u001b[39;00m b \u001b[39mis\u001b[39;00m \u001b[39mnot\u001b[39;00m \u001b[39mNone\u001b[39;00m:\n",
      "\u001b[1;31mValueError\u001b[0m: expected square matrix"
     ]
    }
   ],
   "source": [
    "if np.min(np.abs(eig(R))) > 1e-5:\n",
    "    A = sqrt(beta) * (A - B.dot(solve(R, W.T)))\n",
    "    B = sqrt(beta) * B\n",
    "    Q = Q - W.dot(solve(R, W.T))\n",
    "    # k, s are different than in the matlab\n",
    "    k, s = doubleo(A.T, B.T, Q, R)\n",
    "\n",
    "    f = k.T + solve(R, W.T)\n",
    "\n",
    "    p = s\n",
    "\n",
    "else:\n",
    "    p0 = -0.1 * np.eye(m)\n",
    "    dd = 1\n",
    "    it = 1\n",
    "\n",
    "    for it in range(max_iter):\n",
    "        f0 = solve(R + beta * B.T.dot(p0).dot(B),\n",
    "                    beta * B.T.dot(p0).dot(A) + W.T)\n",
    "        p1 = beta * A.T.dot(p0).dot(A) + Q - \\\n",
    "            (beta * A.T.dot(p0).dot(B) + W).dot(f0)\n",
    "        f1 = solve(R + beta * B.T.dot(p1).dot(B),\n",
    "                    beta * B.T.dot(p1).dot(A) + W.T)\n",
    "        dd = np.max(f1 - f0)\n",
    "        p0 = p1\n",
    "\n",
    "        if dd > tol:\n",
    "            break\n",
    "    else:\n",
    "        msg = 'No convergence: Iteration limit of {0} reached in OLRP'\n",
    "        raise ValueError(msg.format(max_iter))\n",
    "\n",
    "    f = f1\n",
    "    p = p1\n",
    "\n",
    "#return f, p"
   ]
  }
 ],
 "metadata": {
  "kernelspec": {
   "display_name": ".venv",
   "language": "python",
   "name": "python3"
  },
  "language_info": {
   "codemirror_mode": {
    "name": "ipython",
    "version": 3
   },
   "file_extension": ".py",
   "mimetype": "text/x-python",
   "name": "python",
   "nbconvert_exporter": "python",
   "pygments_lexer": "ipython3",
   "version": "3.9.6"
  },
  "orig_nbformat": 4
 },
 "nbformat": 4,
 "nbformat_minor": 2
}
