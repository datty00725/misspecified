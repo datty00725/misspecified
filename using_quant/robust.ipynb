{
 "cells": [
  {
   "cell_type": "markdown",
   "metadata": {},
   "source": [
    "### Robustnessの話の復習\n",
    "状態変数をy=[1 d k]に変更"
   ]
  },
  {
   "cell_type": "code",
   "execution_count": 214,
   "metadata": {},
   "outputs": [
    {
     "name": "stdout",
     "output_type": "stream",
     "text": [
      "The autoreload extension is already loaded. To reload it, use:\n",
      "  %reload_ext autoreload\n"
     ]
    }
   ],
   "source": [
    "# おまじない\n",
    "%load_ext autoreload\n",
    "%autoreload 2"
   ]
  },
  {
   "cell_type": "code",
   "execution_count": 215,
   "metadata": {},
   "outputs": [],
   "source": [
    "# olrprobust_3はリカッチのif文を削除した\n",
    "# olrprobust_2との相違点は上記があるか、ないか\n",
    "from olrprobust_3_using import olrp,olrprobust,doubleo\n",
    "\n",
    "# olrprobust_2はリカッチのif文有〼\n",
    "# matlabを極力そのまま移し替えた。\n",
    "#from olrprobust_2_using import olrp, olrprobust, doubleo\n",
    "\n",
    "# olrprobust_1はgithubから\n",
    "#from olrprobust_1_using import olrp,olrprobust,doubleo"
   ]
  },
  {
   "cell_type": "code",
   "execution_count": 216,
   "metadata": {},
   "outputs": [],
   "source": [
    "import numpy as np\n",
    "import pandas as pd\n",
    "import matplotlib.pyplot as plt"
   ]
  },
  {
   "cell_type": "code",
   "execution_count": 217,
   "metadata": {},
   "outputs": [],
   "source": [
    "gan = 12.0\n",
    "mu_d = 8.0\n",
    "c_d = 1.0\n",
    "rho = 0.05\n",
    "\n",
    "beta = 0.95\n",
    "R = 1 / beta"
   ]
  },
  {
   "cell_type": "code",
   "execution_count": 218,
   "metadata": {},
   "outputs": [
    {
     "name": "stdout",
     "output_type": "stream",
     "text": [
      "dd = 9.752676533025806e-08\n"
     ]
    }
   ],
   "source": [
    "# y=[1 d k]のやつ\n",
    "\n",
    "Q = np.array([[0.0, 0.0, 0.0], [0.0, 0.0, 0.0], [0.0, 0.0, 1e-9]])\n",
    "A = np.array([[1.0, 0.0, 0.0], [(1.0 - rho) * mu_d, rho, 0.0], [-gan, 1.0, R]])\n",
    "B = np.array([[0.0], [0.0], [-1.0]])\n",
    "C = np.array([[0.0], [c_d], [0.0]])\n",
    "R_hyouka = np.array([[1]])\n",
    "F_ro2, K_ro2, P_ro2, Pt_ro2 = olrprobust(beta, A, B, C, Q, R_hyouka, -1e-9)"
   ]
  },
  {
   "cell_type": "code",
   "execution_count": 219,
   "metadata": {},
   "outputs": [
    {
     "name": "stdout",
     "output_type": "stream",
     "text": [
      "[[-4.41994951  0.05249348  0.05263162]]\n"
     ]
    }
   ],
   "source": [
    "print(-F_ro2)"
   ]
  }
 ],
 "metadata": {
  "kernelspec": {
   "display_name": ".venv",
   "language": "python",
   "name": "python3"
  },
  "language_info": {
   "codemirror_mode": {
    "name": "ipython",
    "version": 3
   },
   "file_extension": ".py",
   "mimetype": "text/x-python",
   "name": "python",
   "nbconvert_exporter": "python",
   "pygments_lexer": "ipython3",
   "version": "3.9.6"
  },
  "orig_nbformat": 4
 },
 "nbformat": 4,
 "nbformat_minor": 2
}
