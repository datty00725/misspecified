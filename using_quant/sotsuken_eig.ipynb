{
 "cells": [
  {
   "cell_type": "code",
   "execution_count": 1,
   "metadata": {},
   "outputs": [],
   "source": [
    "import numpy as np\n",
    "import pandas as pd\n",
    "import matplotlib.pyplot as plt\n",
    "import os\n",
    "dirname = \"sotsuken/\"\n",
    "os.makedirs(dirname, exist_ok=True)\n",
    "%matplotlib inline\n",
    "import matplotlib.pyplot as plt\n",
    "\n",
    "plt.rcParams[\"figure.figsize\"] = (11, 5)  #set default figure size\n",
    "import numpy as np\n",
    "import scipy.linalg as la\n",
    "\n",
    "import quantecon as qe\n",
    "from control import matlab"
   ]
  },
  {
   "cell_type": "code",
   "execution_count": 2,
   "metadata": {},
   "outputs": [],
   "source": [
    "# ずっと使ってきたやつ\n",
    "set_parameter = 3\n",
    "\n",
    "# ch10\n",
    "# set_parameter = 2"
   ]
  },
  {
   "cell_type": "code",
   "execution_count": 3,
   "metadata": {},
   "outputs": [],
   "source": [
    "# 効用関数の設定\n",
    "# LQR_util = 2で効用をマイナスに設定\n",
    "# LQR_util = 2ではLQRの重み行列が正定値行列とならず破綻\n",
    "LQR_util = 1"
   ]
  },
  {
   "cell_type": "code",
   "execution_count": 4,
   "metadata": {},
   "outputs": [],
   "source": [
    "if set_parameter == 1:\n",
    "    # Set parameters ずっと使ってきたやつ\n",
    "    mu_d = 13.0\n",
    "    rho = 0.05\n",
    "    gan = 8.0\n",
    "    c_d = 1.0\n",
    "    beta_std = 0.95\n",
    "    R_kinri = 1 / beta_std\n",
    "    ponji = 1e-9\n",
    "elif set_parameter == 2:\n",
    "    # Set parameters in ch10\n",
    "    mu_d = 13.594\n",
    "    rho = 0.241\n",
    "    gan = 500.0\n",
    "    c_d = 0.2\n",
    "    beta_std = 0.997\n",
    "    R_kinri = 1 / beta_std\n",
    "    ponji = 1e-9\n",
    "elif set_parameter == 3:\n",
    "    # 自由に変えていいよ\n",
    "    mu_d = 13.00\n",
    "    rho = 0.05\n",
    "    gan = 13.0\n",
    "    c_d = 1.0\n",
    "    #beta_std = 0.9494764430324878\n",
    "    beta_std = 0.95\n",
    "    R_kinri = 1 / beta_std\n",
    "    ponji = 1e-9"
   ]
  },
  {
   "cell_type": "code",
   "execution_count": 5,
   "metadata": {},
   "outputs": [],
   "source": [
    "sig_arr = [-1e-9, -1e-1]\n",
    "d_first = 0.0\n",
    "k_first = 0.0"
   ]
  },
  {
   "cell_type": "code",
   "execution_count": 6,
   "metadata": {},
   "outputs": [],
   "source": [
    "# uncertaintyあり、なし全ての期間を決定\n",
    "iter_t = 1500\n",
    "iter_uti= iter_t"
   ]
  },
  {
   "cell_type": "code",
   "execution_count": 7,
   "metadata": {},
   "outputs": [],
   "source": [
    "np.random.seed(5)\n",
    "eps = np.random.randn(iter_t)"
   ]
  },
  {
   "cell_type": "code",
   "execution_count": 8,
   "metadata": {},
   "outputs": [],
   "source": [
    "ovr = 120\n",
    "tapple_y = 20\n",
    "y_lim = (-ovr, ovr)"
   ]
  },
  {
   "cell_type": "code",
   "execution_count": 9,
   "metadata": {},
   "outputs": [],
   "source": [
    "# おまじない\n",
    "%load_ext autoreload\n",
    "%autoreload 2"
   ]
  },
  {
   "cell_type": "code",
   "execution_count": 10,
   "metadata": {},
   "outputs": [],
   "source": [
    "# olrprobust_3はリカッチのif文を削除した\n",
    "# olrprobust_2との相違点は上記があるか、ないか\n",
    "from olrprobust_3_using import olrp, olrprobust, doubleo\n",
    "\n",
    "# olrprobust_2はリカッチのif文有〼\n",
    "# matlabを極力そのまま移し替えた。\n",
    "# from olrprobust_2_using import olrp, olrprobust, doubleo\n",
    "\n",
    "# olrprobust_1はgithubから\n",
    "# from olrprobust_1_using import olrp,olrprobust,doubleo"
   ]
  },
  {
   "cell_type": "code",
   "execution_count": 11,
   "metadata": {},
   "outputs": [
    {
     "name": "stdout",
     "output_type": "stream",
     "text": [
      "[[  1.           0.           0.        ]\n",
      " [ 12.35         0.05         0.        ]\n",
      " [-13.           1.           1.05263158]]\n",
      "F = [-0.68241495  0.05249346  0.0526316 ]\n",
      "P = [[ 9.31379986 -0.71644614 -0.71833153]]\n",
      "A = [[  1.           0.           0.        ]\n",
      " [ 12.35         0.05         0.        ]\n",
      " [-13.           1.           1.05263158]]\n"
     ]
    }
   ],
   "source": [
    "# y=[1 d k]のやつ\n",
    "QLQ_mat = np.matrix([[0.0, 0.0, 0.0], [0.0, 0.0, 0.0], [0.0, 0.0, ponji]])\n",
    "ALQ_mat = np.matrix(\n",
    "    [[1.0, 0.0, 0.0], [(1.0 - rho) * mu_d, rho, 0.0], [-gan, 1.0, R_kinri]]\n",
    ")\n",
    "# u=\\gamma - c_tにしたため符号を反転した\n",
    "BLQ_mat = np.matrix([[0.0], [0.0], [1.0]])\n",
    "CLQ_mat = np.matrix([[0.0], [c_d], [0.0]])\n",
    "RLQ_mat = np.matrix([[1]])\n",
    "print(ALQ_mat)\n",
    "F_nomis_mat, K_nomis_mat, P_nomis_mat, Pt_nomis_mat = olrprobust(\n",
    "    beta_std, ALQ_mat, BLQ_mat, CLQ_mat, QLQ_mat, RLQ_mat, sig_arr[0]\n",
    ")\n",
    "print(f\"F = {F_nomis_mat[0]}\")\n",
    "print(f\"P = {P_nomis_mat[0]}\")\n",
    "print(f\"A = {ALQ_mat}\")\n"
   ]
  },
  {
   "cell_type": "code",
   "execution_count": 12,
   "metadata": {},
   "outputs": [
    {
     "name": "stdout",
     "output_type": "stream",
     "text": [
      "[[0. 0.]\n",
      " [0. 1.]\n",
      " [1. 0.]]\n"
     ]
    }
   ],
   "source": [
    "BtLQ_mat=np.hstack([BLQ_mat,CLQ_mat])\n",
    "print(BtLQ_mat)"
   ]
  },
  {
   "cell_type": "code",
   "execution_count": 13,
   "metadata": {},
   "outputs": [
    {
     "name": "stdout",
     "output_type": "stream",
     "text": [
      "[[0.         0.         0.         0.         0.         0.        ]\n",
      " [0.         1.         0.         0.05       0.         0.0025    ]\n",
      " [1.         0.         1.05263158 1.         1.10803324 1.10263158]]\n"
     ]
    }
   ],
   "source": [
    "Co=np.hstack([BtLQ_mat,ALQ_mat*BtLQ_mat,ALQ_mat**2*BtLQ_mat])\n",
    "print(Co)"
   ]
  },
  {
   "cell_type": "code",
   "execution_count": 14,
   "metadata": {},
   "outputs": [
    {
     "data": {
      "text/plain": [
       "2"
      ]
     },
     "execution_count": 14,
     "metadata": {},
     "output_type": "execute_result"
    }
   ],
   "source": [
    "np.linalg.matrix_rank(Co)"
   ]
  },
  {
   "cell_type": "markdown",
   "metadata": {},
   "source": [
    "in robustness"
   ]
  },
  {
   "cell_type": "code",
   "execution_count": 15,
   "metadata": {},
   "outputs": [
    {
     "name": "stdout",
     "output_type": "stream",
     "text": [
      "[[  1.           0.           0.        ]\n",
      " [-13.           1.05263158   1.        ]\n",
      " [ 12.35         0.           0.05      ]]\n"
     ]
    }
   ],
   "source": [
    "# y=[1 d k]のやつ\n",
    "QLQ_mat = np.matrix([[0.0, 0.0, 0.0], [0.0, 0.0, 0.0], [0.0, 0.0, ponji]])\n",
    "ALQ_mat = np.matrix(\n",
    "    [[1.0, 0.0, 0.0], [-gan, R_kinri, 1.0], [(1.0 - rho) * mu_d, 0.0, rho]]\n",
    ")\n",
    "# u=\\gamma - c_tにしたため符号を反転した\n",
    "BLQ_mat = np.matrix([[0.0], [1.0], [0.0]])\n",
    "CLQ_mat = np.matrix([[0.0], [0.0], [c_d]])\n",
    "RLQ_mat = np.matrix([[1.]])\n",
    "print(ALQ_mat)"
   ]
  },
  {
   "cell_type": "code",
   "execution_count": 16,
   "metadata": {},
   "outputs": [
    {
     "name": "stdout",
     "output_type": "stream",
     "text": [
      "[[0. 0.]\n",
      " [1. 0.]\n",
      " [0. 1.]]\n"
     ]
    }
   ],
   "source": [
    "BtLQ_mat=np.hstack([BLQ_mat,CLQ_mat])\n",
    "print(BtLQ_mat)"
   ]
  },
  {
   "cell_type": "code",
   "execution_count": 17,
   "metadata": {},
   "outputs": [
    {
     "ename": "NameError",
     "evalue": "name 'Mc' is not defined",
     "output_type": "error",
     "traceback": [
      "\u001b[1;31m---------------------------------------------------------------------------\u001b[0m",
      "\u001b[1;31mNameError\u001b[0m                                 Traceback (most recent call last)",
      "Cell \u001b[1;32mIn[17], line 2\u001b[0m\n\u001b[0;32m      1\u001b[0m Co\u001b[38;5;241m=\u001b[39mnp\u001b[38;5;241m.\u001b[39mhstack([BtLQ_mat,ALQ_mat\u001b[38;5;241m*\u001b[39mBtLQ_mat,ALQ_mat\u001b[38;5;241m*\u001b[39m\u001b[38;5;241m*\u001b[39m\u001b[38;5;241m2\u001b[39m\u001b[38;5;241m*\u001b[39mBtLQ_mat])\n\u001b[1;32m----> 2\u001b[0m \u001b[38;5;28mprint\u001b[39m(\u001b[43mMc\u001b[49m)\n",
      "\u001b[1;31mNameError\u001b[0m: name 'Mc' is not defined"
     ]
    }
   ],
   "source": [
    "Co=np.hstack([BtLQ_mat,ALQ_mat*BtLQ_mat,ALQ_mat**2*BtLQ_mat])\n",
    "print(Mc)"
   ]
  },
  {
   "cell_type": "code",
   "execution_count": null,
   "metadata": {},
   "outputs": [
    {
     "data": {
      "text/plain": [
       "2"
      ]
     },
     "execution_count": 79,
     "metadata": {},
     "output_type": "execute_result"
    }
   ],
   "source": [
    "np.linalg.matrix_rank(Mc)"
   ]
  },
  {
   "cell_type": "code",
   "execution_count": null,
   "metadata": {},
   "outputs": [
    {
     "data": {
      "text/plain": [
       "2"
      ]
     },
     "execution_count": 80,
     "metadata": {},
     "output_type": "execute_result"
    }
   ],
   "source": [
    "BtLQ_mat=np.hstack([BLQ_mat,CLQ_mat])\n",
    "Co=np.hstack([BtLQ_mat,ALQ_mat*BtLQ_mat,ALQ_mat**2*BtLQ_mat])\n",
    "np.linalg.matrix_rank(Mc)"
   ]
  },
  {
   "cell_type": "markdown",
   "metadata": {},
   "source": [
    "in quant"
   ]
  },
  {
   "cell_type": "code",
   "execution_count": null,
   "metadata": {},
   "outputs": [],
   "source": [
    "A = np.array([[1.0, 0.0], [(1.0 - rho) * mu_d, rho]])\n",
    "C = np.array([[0.0], [c_d]])\n",
    "\n",
    "# ここでは使わない\n",
    "G = np.array([[0.0, 1.0]])\n",
    "G_1 = np.array([[1.0, 0.0]])\n",
    "A12 = np.zeros((2, 1))\n",
    "ALQ_l = np.hstack([A, A12])\n",
    "ALQ_r = np.array([[-gan, 1.0, R_kinri]])\n",
    "ALQ_quant = np.vstack([ALQ_l, ALQ_r])\n",
    "RLQ_quant = np.array(\n",
    "    [\n",
    "        [0.0, 0.0, 0.0],\n",
    "        [0.0, 0.0, 0.0],\n",
    "        [0.0, 0.0, ponji],\n",
    "    ]\n",
    ")\n",
    "QLQ_quant = np.array([1.0])\n",
    "BLQ_quant = np.array([0.0, 0.0, 1.0]).reshape(3, 1)\n",
    "CLQ_quant = np.array([0.0, c_d, 0.0]).reshape(3, 1)\n",
    "beta_LQ = beta_std"
   ]
  },
  {
   "cell_type": "code",
   "execution_count": null,
   "metadata": {},
   "outputs": [],
   "source": [
    "lqpi = qe.LQ(QLQ_quant, RLQ_quant, ALQ_quant, BLQ_quant, C=CLQ_quant, beta=beta_LQ)\n",
    "x0=[1.,0.,0.,]\n",
    "P_nomis_quant,F_nomis_qunat,d=lqpi.stationary_values()\n",
    "xp, up, wp = lqpi.compute_sequence(x0, ts_length=1500, random_state=5)"
   ]
  },
  {
   "cell_type": "code",
   "execution_count": null,
   "metadata": {},
   "outputs": [],
   "source": [
    "k_nomis_qunat = xp[2, :]\n",
    "d_nomis_quant = xp[1, :]"
   ]
  },
  {
   "cell_type": "code",
   "execution_count": null,
   "metadata": {},
   "outputs": [],
   "source": [
    "c_nomis_quant = gan - up"
   ]
  },
  {
   "cell_type": "code",
   "execution_count": null,
   "metadata": {},
   "outputs": [],
   "source": [
    "c_nomis_quant=np.ravel(c_nomis_quant)"
   ]
  },
  {
   "cell_type": "markdown",
   "metadata": {},
   "source": [
    "mean of ct"
   ]
  },
  {
   "cell_type": "code",
   "execution_count": null,
   "metadata": {},
   "outputs": [
    {
     "data": {
      "text/plain": [
       "13.486369059114873"
      ]
     },
     "execution_count": 86,
     "metadata": {},
     "output_type": "execute_result"
    }
   ],
   "source": [
    "np.mean(c_nomis_quant)"
   ]
  },
  {
   "cell_type": "markdown",
   "metadata": {},
   "source": [
    "A-BFの固有値の実部が負かどうか。負なら安定"
   ]
  },
  {
   "cell_type": "code",
   "execution_count": null,
   "metadata": {},
   "outputs": [
    {
     "name": "stdout",
     "output_type": "stream",
     "text": [
      "(array([0.99999998, 0.05      , 1.        ]), array([[ 0.00000000e+00,  0.00000000e+00,  7.66964989e-02],\n",
      "       [ 0.00000000e+00,  7.08035351e-01,  9.97054486e-01],\n",
      "       [ 1.00000000e+00, -7.06176990e-01,  1.88698615e-09]]))\n"
     ]
    }
   ],
   "source": [
    "ABF_nomis = ALQ_quant - BLQ_quant @ F_nomis_qunat\n",
    "print(np.linalg.eig(ABF_nomis))"
   ]
  },
  {
   "cell_type": "markdown",
   "metadata": {},
   "source": [
    "可安定性の判定(可安定性の十分条件が可制御性)"
   ]
  },
  {
   "cell_type": "markdown",
   "metadata": {},
   "source": [
    "Aの固有値"
   ]
  },
  {
   "cell_type": "code",
   "execution_count": null,
   "metadata": {},
   "outputs": [],
   "source": [
    "ALQ_eigenvalues, ALQ_eigenvectors = np.linalg.eig(ALQ_quant)"
   ]
  },
  {
   "cell_type": "code",
   "execution_count": null,
   "metadata": {},
   "outputs": [
    {
     "name": "stdout",
     "output_type": "stream",
     "text": [
      "rank = 3\n",
      "rank = 2\n",
      "rank = 2\n"
     ]
    }
   ],
   "source": [
    "ALQ_l, _ = ALQ_quant.shape\n",
    "In = np.eye(ALQ_l)\n",
    "\n",
    "for eig in ALQ_eigenvalues:\n",
    "    Ds = np.hstack([BLQ_quant, ALQ_quant - eig * In])\n",
    "    print(f\"rank = {np.linalg.matrix_rank(Ds)}\")"
   ]
  },
  {
   "cell_type": "markdown",
   "metadata": {},
   "source": [
    "Pの固有値"
   ]
  },
  {
   "cell_type": "code",
   "execution_count": null,
   "metadata": {},
   "outputs": [
    {
     "name": "stdout",
     "output_type": "stream",
     "text": [
      "[9.42431250e+00 1.98797650e-18 9.96488055e-10]\n"
     ]
    }
   ],
   "source": [
    "P_eigenvalues, P_eigenvectors = np.linalg.eig(P_nomis_quant)\n",
    "print(P_eigenvalues)"
   ]
  },
  {
   "cell_type": "code",
   "execution_count": null,
   "metadata": {},
   "outputs": [
    {
     "data": {
      "image/png": "[encoded data removed]",
      "text/plain": [
       "<Figure size 650x420 with 1 Axes>"
      ]
     },
     "metadata": {},
     "output_type": "display_data"
    }
   ],
   "source": [
    "iter_t-=1\n",
    "plt.figure(figsize=[6.5, 4.2])\n",
    "plt.title(\"sig = %f\" % (sig_arr[0]))\n",
    "plt.ylim(y_lim)\n",
    "colorlist = [\"#FF4B00\", \"#005AFF\", \"#03AF7A\"]\n",
    "# Plot consumption\n",
    "plt.plot(\n",
    "    np.array(range(iter_t+1)),\n",
    "    c_nomis_quant[:iter_t+1],\n",
    "    linestyle=\"-\",\n",
    "    label=\"consumption\",\n",
    "    color=colorlist[0],\n",
    ")\n",
    "\n",
    "# Plot endowment\n",
    "#plt.plot(\n",
    "#    np.array(range(iter_t)),\n",
    "#    d_nomis_mat[:iter_t],\n",
    "#    linestyle=\"--\",\n",
    "#    label=\"endowment\",\n",
    "#    color=colorlist[1],\n",
    "#)\n",
    "\n",
    "# Plot saving\n",
    "plt.plot(\n",
    "    np.array(range(iter_t)),\n",
    "    k_nomis_qunat[1:iter_t+1],\n",
    "    linestyle=\":\",\n",
    "    label=\"saving\",\n",
    "    color=colorlist[2],\n",
    ")\n",
    "\n",
    "# Legend with specified arguments\n",
    "plt.legend(loc=\"upper center\", bbox_to_anchor=(0.5, 1.2), ncol=3, prop={\"size\": 10})\n",
    "plt.xlabel(\"time\", fontsize=10)\n",
    "plt.ylabel(\"comsumption/endowment/saving\", fontname=\"MS Gothic\", fontsize=10)\n",
    "plt.grid()\n",
    "plt.tight_layout()"
   ]
  }
 ],
 "metadata": {
  "kernelspec": {
   "display_name": ".venv",
   "language": "python",
   "name": "python3"
  },
  "language_info": {
   "codemirror_mode": {
    "name": "ipython",
    "version": 3
   },
   "file_extension": ".py",
   "mimetype": "text/x-python",
   "name": "python",
   "nbconvert_exporter": "python",
   "pygments_lexer": "ipython3",
   "version": "3.9.6"
  }
 },
 "nbformat": 4,
 "nbformat_minor": 2
}
