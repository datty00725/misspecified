{
 "cells": [
  {
   "cell_type": "code",
   "execution_count": 23,
   "metadata": {},
   "outputs": [],
   "source": [
    "import numpy as np\n",
    "import pandas as pd\n",
    "import matplotlib.pyplot as plt\n",
    "import os\n",
    "dirname = \"sotsuken/\"\n",
    "os.makedirs(dirname, exist_ok=True)\n",
    "%matplotlib inline\n",
    "import matplotlib.pyplot as plt\n",
    "\n",
    "plt.rcParams[\"figure.figsize\"] = (11, 5)  #set default figure size\n",
    "import numpy as np\n",
    "import scipy.linalg as la\n",
    "\n",
    "import quantecon as qe"
   ]
  },
  {
   "cell_type": "code",
   "execution_count": 24,
   "metadata": {},
   "outputs": [],
   "source": [
    "# 効用関数の設定\n",
    "# LQR_util = 2で効用をマイナスに設定\n",
    "# LQR_util = 2ではLQRの重み行列が正定値行列とならず破綻\n",
    "LQR_util = 3"
   ]
  },
  {
   "cell_type": "code",
   "execution_count": 25,
   "metadata": {},
   "outputs": [],
   "source": [
    "mu_d = 13.\n",
    "rho = 0.05\n",
    "gan = 13.\n",
    "c_d = .2\n",
    "#beta_std = 0.9494764430324878\n",
    "beta_std = 0.95\n",
    "R_kinri = 1 / beta_std\n",
    "ponji = 1e-9"
   ]
  },
  {
   "cell_type": "code",
   "execution_count": 26,
   "metadata": {},
   "outputs": [],
   "source": [
    "iter_t = 1500\n",
    "iter_uti= iter_t"
   ]
  },
  {
   "cell_type": "code",
   "execution_count": 27,
   "metadata": {},
   "outputs": [],
   "source": [
    "np.random.seed(818931331)\n",
    "eps = np.random.randn(iter_t) + (1-rho)*(mu_d-gan)/c_d"
   ]
  },
  {
   "cell_type": "code",
   "execution_count": 28,
   "metadata": {},
   "outputs": [
    {
     "name": "stdout",
     "output_type": "stream",
     "text": [
      "(1500,)\n",
      "[ 0.35555431 -0.60040183 -1.14844746 -0.49146327 -0.04967777 -0.86739363\n",
      "  0.40975609  1.05405199 -1.86230537 -0.44658328]\n"
     ]
    }
   ],
   "source": [
    "print(eps.shape)\n",
    "print(eps[:10])"
   ]
  },
  {
   "cell_type": "code",
   "execution_count": 29,
   "metadata": {},
   "outputs": [],
   "source": [
    "sig_arr = [-1e-9, -1e-1]\n",
    "d_first = 14.0\n",
    "k_first = 0.0"
   ]
  },
  {
   "cell_type": "code",
   "execution_count": 30,
   "metadata": {},
   "outputs": [],
   "source": [
    "ovr = 50\n",
    "tapple_y = 50\n",
    "y_lim = (0, 20)"
   ]
  },
  {
   "cell_type": "code",
   "execution_count": 31,
   "metadata": {},
   "outputs": [
    {
     "name": "stdout",
     "output_type": "stream",
     "text": [
      "The autoreload extension is already loaded. To reload it, use:\n",
      "  %reload_ext autoreload\n"
     ]
    }
   ],
   "source": [
    "# おまじない\n",
    "%load_ext autoreload\n",
    "%autoreload 2"
   ]
  },
  {
   "cell_type": "code",
   "execution_count": 32,
   "metadata": {},
   "outputs": [],
   "source": [
    "# olrprobust_3はリカッチのif文を削除した\n",
    "# olrprobust_2との相違点は上記があるか、ないか\n",
    "from olrprobust_3_using import olrp, olrprobust, doubleo\n",
    "\n",
    "# olrprobust_2はリカッチのif文有〼\n",
    "# matlabを極力そのまま移し替えた。\n",
    "# from olrprobust_2_using import olrp, olrprobust, doubleo\n",
    "\n",
    "# olrprobust_1はgithubから\n",
    "# from olrprobust_1_using import olrp,olrprobust,doubleo"
   ]
  },
  {
   "cell_type": "code",
   "execution_count": 33,
   "metadata": {},
   "outputs": [
    {
     "name": "stdout",
     "output_type": "stream",
     "text": [
      "F = [0.05249348 0.05263162]\n",
      "[[0.05511126 0.05525629]\n",
      " [0.05525629 0.0554017 ]]\n",
      "[4.99873136e-10 1.10512963e-01]\n"
     ]
    }
   ],
   "source": [
    "# y=[d k]のやつ\n",
    "QLQ_mat = np.array([[0.0, 0.0], [0.0, ponji]])\n",
    "ALQ_mat = np.array(\n",
    "    [[rho, 0.0], [1.0, R_kinri]]\n",
    ")\n",
    "# u=\\gamma - c_tにしたため符号を反転した\n",
    "BLQ_mat = np.array([[0.0], [1.0]])\n",
    "CLQ_mat = np.array([ [c_d], [0.0]])\n",
    "RLQ_mat = np.array([[1]])\n",
    "\n",
    "if LQR_util == 2:\n",
    "    RLQ_mat = -RLQ_mat\n",
    "    QLQ_mat = -QLQ_mat\n",
    "F_nomis_mat, K_nomis_mat, P_nomis_mat, Pt_nomis_mat = olrprobust(\n",
    "    beta_std, ALQ_mat, BLQ_mat, CLQ_mat, QLQ_mat, RLQ_mat, sig_arr[0]\n",
    ")\n",
    "print(f\"F = {F_nomis_mat[0]}\")\n",
    "\n",
    "print(P_nomis_mat)\n",
    "print(np.linalg.eigvals(P_nomis_mat))"
   ]
  },
  {
   "cell_type": "code",
   "execution_count": 34,
   "metadata": {},
   "outputs": [],
   "source": [
    "y_nomis_mat = np.array([[d_first, k_first]])\n",
    "ABF_nomis_mat = ALQ_mat - BLQ_mat @ F_nomis_mat\n",
    "for i in range(iter_t):\n",
    "    y_nomis_mat = np.insert(\n",
    "        y_nomis_mat, 0, ABF_nomis_mat @ y_nomis_mat[0].T + CLQ_mat.T * eps[i]*0, axis=0\n",
    "    )"
   ]
  },
  {
   "cell_type": "code",
   "execution_count": 35,
   "metadata": {},
   "outputs": [],
   "source": [
    "# 0-iter_tまでのiter_t+1の長さになっている。\n",
    "y_nomis_mat = y_nomis_mat[::-1]\n",
    "k_nomis_mat = y_nomis_mat[:, 1]\n",
    "d_nomis_mat = y_nomis_mat[:, 0] + gan"
   ]
  },
  {
   "cell_type": "code",
   "execution_count": 36,
   "metadata": {},
   "outputs": [
    {
     "name": "stdout",
     "output_type": "stream",
     "text": [
      "y.shape = (1501, 2)\n"
     ]
    }
   ],
   "source": [
    "print(f\"y.shape = {y_nomis_mat.shape}\")"
   ]
  },
  {
   "cell_type": "code",
   "execution_count": 37,
   "metadata": {},
   "outputs": [
    {
     "name": "stdout",
     "output_type": "stream",
     "text": [
      "c.shape = (1501,)\n"
     ]
    }
   ],
   "source": [
    "c_nomis_mat = np.zeros(iter_t + 1)\n",
    "for i in range(iter_t + 1):\n",
    "    c_nomis_mat[i] = F_nomis_mat @ y_nomis_mat[i] + gan\n",
    "print(f\"c.shape = {c_nomis_mat.shape}\")"
   ]
  },
  {
   "cell_type": "code",
   "execution_count": 38,
   "metadata": {},
   "outputs": [
    {
     "name": "stdout",
     "output_type": "stream",
     "text": [
      "(array([0.99999996, 0.05      ]), array([[ 0.        ,  0.70803535],\n",
      "       [ 1.        , -0.70617699]]))\n",
      "(array([1.05263158, 0.05      ]), array([[ 0.        ,  0.70803535],\n",
      "       [ 1.        , -0.70617699]]))\n",
      "(array([4.99873136e-10, 1.10512963e-01]), array([[-0.70803535, -0.70617699],\n",
      "       [ 0.70617699, -0.70803535]]))\n"
     ]
    }
   ],
   "source": [
    "import numpy.linalg as LA\n",
    "stability=ALQ_mat-BLQ_mat@F_nomis_mat\n",
    "print(LA.eig(stability))\n",
    "print(LA.eig(ALQ_mat))\n",
    "print(LA.eig(P_nomis_mat))"
   ]
  },
  {
   "cell_type": "code",
   "execution_count": 39,
   "metadata": {},
   "outputs": [
    {
     "name": "stdout",
     "output_type": "stream",
     "text": [
      "[[0.  0.2]\n",
      " [1.  0. ]]\n"
     ]
    }
   ],
   "source": [
    "BtLQ_mat=np.hstack([BLQ_mat,CLQ_mat])\n",
    "print(BtLQ_mat)"
   ]
  },
  {
   "cell_type": "code",
   "execution_count": 40,
   "metadata": {},
   "outputs": [
    {
     "name": "stdout",
     "output_type": "stream",
     "text": [
      "[[0.05       0.        ]\n",
      " [1.         1.05263158]]\n"
     ]
    }
   ],
   "source": [
    "print(ALQ_mat)"
   ]
  },
  {
   "cell_type": "code",
   "execution_count": 41,
   "metadata": {},
   "outputs": [
    {
     "name": "stdout",
     "output_type": "stream",
     "text": [
      "[[0.0025     0.        ]\n",
      " [1.         1.10803324]]\n"
     ]
    }
   ],
   "source": [
    "print(ALQ_mat**2)"
   ]
  },
  {
   "cell_type": "code",
   "execution_count": 42,
   "metadata": {},
   "outputs": [
    {
     "name": "stdout",
     "output_type": "stream",
     "text": [
      "[[0.  0.2 0.  0.  0.  0. ]\n",
      " [1.  0.  1.  0.  1.  0. ]]\n"
     ]
    }
   ],
   "source": [
    "Co = np.hstack([BtLQ_mat, ALQ_mat * BtLQ_mat, ALQ_mat**2 * BtLQ_mat])\n",
    "print(Co)"
   ]
  },
  {
   "cell_type": "code",
   "execution_count": 43,
   "metadata": {},
   "outputs": [
    {
     "data": {
      "text/plain": [
       "2"
      ]
     },
     "execution_count": 43,
     "metadata": {},
     "output_type": "execute_result"
    }
   ],
   "source": [
    "np.linalg.matrix_rank(Co)"
   ]
  },
  {
   "cell_type": "code",
   "execution_count": 44,
   "metadata": {},
   "outputs": [
    {
     "data": {
      "image/png": "[encoded data removed]",
      "text/plain": [
       "<Figure size 650x420 with 1 Axes>"
      ]
     },
     "metadata": {},
     "output_type": "display_data"
    }
   ],
   "source": [
    "plt.figure(figsize=[6.5, 4.2])\n",
    "plt.title(\"sig = %f\" % (sig_arr[0]))\n",
    "plt.ylim(y_lim)\n",
    "colorlist = [\"#FF4B00\", \"#005AFF\", \"#03AF7A\"]\n",
    "# Plot consumption\n",
    "plt.plot(\n",
    "    np.array(range(iter_t+1)),\n",
    "    c_nomis_mat[:iter_t+1],\n",
    "    linestyle=\"-\",\n",
    "    label=\"consumption\",\n",
    "    color=colorlist[0],\n",
    ")\n",
    "\n",
    "# Plot endowment\n",
    "plt.plot(\n",
    "    np.array(range(iter_t)),\n",
    "    d_nomis_mat[:iter_t],\n",
    "    linestyle=\"--\",\n",
    "    label=\"endowment\",\n",
    "    color=colorlist[1],\n",
    ")\n",
    "\n",
    "# Plot saving\n",
    "plt.plot(\n",
    "    np.array(range(iter_t)),\n",
    "    k_nomis_mat[1:iter_t+1],\n",
    "    linestyle=\":\",\n",
    "    label=\"saving\",\n",
    "    color=colorlist[2],\n",
    ")\n",
    "\n",
    "# Legend with specified arguments\n",
    "plt.legend(loc=\"upper center\", bbox_to_anchor=(0.5, 1.2), ncol=3, prop={\"size\": 10})\n",
    "plt.xlabel(\"time\", fontsize=10)\n",
    "plt.ylabel(\"comsumption/endowment/saving\", fontname=\"MS Gothic\", fontsize=10)\n",
    "plt.grid()\n",
    "plt.tight_layout()\n",
    "plt.savefig(\"%sch10_1.png\" % dirname)"
   ]
  },
  {
   "cell_type": "code",
   "execution_count": 45,
   "metadata": {},
   "outputs": [
    {
     "data": {
      "text/html": [
       "<table class=\"simpletable\">\n",
       "<caption>SARIMAX Results</caption>\n",
       "<tr>\n",
       "  <th>Dep. Variable:</th>           <td>y</td>        <th>  No. Observations:  </th>    <td>100</td>  \n",
       "</tr>\n",
       "<tr>\n",
       "  <th>Model:</th>            <td>ARIMA(1, 0, 0)</td>  <th>  Log Likelihood     </th> <td>-225.554</td>\n",
       "</tr>\n",
       "<tr>\n",
       "  <th>Date:</th>            <td>Mon, 18 Mar 2024</td> <th>  AIC                </th>  <td>457.108</td>\n",
       "</tr>\n",
       "<tr>\n",
       "  <th>Time:</th>                <td>11:46:05</td>     <th>  BIC                </th>  <td>464.923</td>\n",
       "</tr>\n",
       "<tr>\n",
       "  <th>Sample:</th>                  <td>0</td>        <th>  HQIC               </th>  <td>460.271</td>\n",
       "</tr>\n",
       "<tr>\n",
       "  <th></th>                      <td> - 100</td>      <th>                     </th>     <td> </td>   \n",
       "</tr>\n",
       "<tr>\n",
       "  <th>Covariance Type:</th>        <td>opg</td>       <th>                     </th>     <td> </td>   \n",
       "</tr>\n",
       "</table>\n",
       "<table class=\"simpletable\">\n",
       "<tr>\n",
       "     <td></td>       <th>coef</th>     <th>std err</th>      <th>z</th>      <th>P>|z|</th>  <th>[0.025</th>    <th>0.975]</th>  \n",
       "</tr>\n",
       "<tr>\n",
       "  <th>const</th>  <td>   38.0293</td> <td>   41.319</td> <td>    0.920</td> <td> 0.357</td> <td>  -42.955</td> <td>  119.013</td>\n",
       "</tr>\n",
       "<tr>\n",
       "  <th>ar.L1</th>  <td>    0.9979</td> <td>    0.018</td> <td>   55.547</td> <td> 0.000</td> <td>    0.963</td> <td>    1.033</td>\n",
       "</tr>\n",
       "<tr>\n",
       "  <th>sigma2</th> <td>    5.0463</td> <td>    0.445</td> <td>   11.334</td> <td> 0.000</td> <td>    4.174</td> <td>    5.919</td>\n",
       "</tr>\n",
       "</table>\n",
       "<table class=\"simpletable\">\n",
       "<tr>\n",
       "  <th>Ljung-Box (L1) (Q):</th>     <td>65.18</td> <th>  Jarque-Bera (JB):  </th> <td>931.54</td>\n",
       "</tr>\n",
       "<tr>\n",
       "  <th>Prob(Q):</th>                <td>0.00</td>  <th>  Prob(JB):          </th>  <td>0.00</td> \n",
       "</tr>\n",
       "<tr>\n",
       "  <th>Heteroskedasticity (H):</th> <td>0.00</td>  <th>  Skew:              </th>  <td>3.59</td> \n",
       "</tr>\n",
       "<tr>\n",
       "  <th>Prob(H) (two-sided):</th>    <td>0.00</td>  <th>  Kurtosis:          </th>  <td>16.11</td>\n",
       "</tr>\n",
       "</table><br/><br/>Warnings:<br/>[1] Covariance matrix calculated using the outer product of gradients (complex-step)."
      ],
      "text/latex": [
       "\\begin{center}\n",
       "\\begin{tabular}{lclc}\n",
       "\\toprule\n",
       "\\textbf{Dep. Variable:}          &        y         & \\textbf{  No. Observations:  } &    100      \\\\\n",
       "\\textbf{Model:}                  &  ARIMA(1, 0, 0)  & \\textbf{  Log Likelihood     } &  -225.554   \\\\\n",
       "\\textbf{Date:}                   & Mon, 18 Mar 2024 & \\textbf{  AIC                } &  457.108    \\\\\n",
       "\\textbf{Time:}                   &     11:46:05     & \\textbf{  BIC                } &  464.923    \\\\\n",
       "\\textbf{Sample:}                 &        0         & \\textbf{  HQIC               } &  460.271    \\\\\n",
       "\\textbf{}                        &       - 100      & \\textbf{                     } &             \\\\\n",
       "\\textbf{Covariance Type:}        &       opg        & \\textbf{                     } &             \\\\\n",
       "\\bottomrule\n",
       "\\end{tabular}\n",
       "\\begin{tabular}{lcccccc}\n",
       "                & \\textbf{coef} & \\textbf{std err} & \\textbf{z} & \\textbf{P$> |$z$|$} & \\textbf{[0.025} & \\textbf{0.975]}  \\\\\n",
       "\\midrule\n",
       "\\textbf{const}  &      38.0293  &       41.319     &     0.920  &         0.357        &      -42.955    &      119.013     \\\\\n",
       "\\textbf{ar.L1}  &       0.9979  &        0.018     &    55.547  &         0.000        &        0.963    &        1.033     \\\\\n",
       "\\textbf{sigma2} &       5.0463  &        0.445     &    11.334  &         0.000        &        4.174    &        5.919     \\\\\n",
       "\\bottomrule\n",
       "\\end{tabular}\n",
       "\\begin{tabular}{lclc}\n",
       "\\textbf{Ljung-Box (L1) (Q):}     & 65.18 & \\textbf{  Jarque-Bera (JB):  } & 931.54  \\\\\n",
       "\\textbf{Prob(Q):}                &  0.00 & \\textbf{  Prob(JB):          } &  0.00   \\\\\n",
       "\\textbf{Heteroskedasticity (H):} &  0.00 & \\textbf{  Skew:              } &  3.59   \\\\\n",
       "\\textbf{Prob(H) (two-sided):}    &  0.00 & \\textbf{  Kurtosis:          } & 16.11   \\\\\n",
       "\\bottomrule\n",
       "\\end{tabular}\n",
       "%\\caption{SARIMAX Results}\n",
       "\\end{center}\n",
       "\n",
       "Warnings: \\newline\n",
       " [1] Covariance matrix calculated using the outer product of gradients (complex-step)."
      ],
      "text/plain": [
       "<class 'statsmodels.iolib.summary.Summary'>\n",
       "\"\"\"\n",
       "                               SARIMAX Results                                \n",
       "==============================================================================\n",
       "Dep. Variable:                      y   No. Observations:                  100\n",
       "Model:                 ARIMA(1, 0, 0)   Log Likelihood                -225.554\n",
       "Date:                Mon, 18 Mar 2024   AIC                            457.108\n",
       "Time:                        11:46:05   BIC                            464.923\n",
       "Sample:                             0   HQIC                           460.271\n",
       "                                - 100                                         \n",
       "Covariance Type:                  opg                                         \n",
       "==============================================================================\n",
       "                 coef    std err          z      P>|z|      [0.025      0.975]\n",
       "------------------------------------------------------------------------------\n",
       "const         38.0293     41.319      0.920      0.357     -42.955     119.013\n",
       "ar.L1          0.9979      0.018     55.547      0.000       0.963       1.033\n",
       "sigma2         5.0463      0.445     11.334      0.000       4.174       5.919\n",
       "===================================================================================\n",
       "Ljung-Box (L1) (Q):                  65.18   Jarque-Bera (JB):               931.54\n",
       "Prob(Q):                              0.00   Prob(JB):                         0.00\n",
       "Heteroskedasticity (H):               0.00   Skew:                             3.59\n",
       "Prob(H) (two-sided):                  0.00   Kurtosis:                        16.11\n",
       "===================================================================================\n",
       "\n",
       "Warnings:\n",
       "[1] Covariance matrix calculated using the outer product of gradients (complex-step).\n",
       "\"\"\""
      ]
     },
     "execution_count": 45,
     "metadata": {},
     "output_type": "execute_result"
    }
   ],
   "source": [
    "import numpy as np\n",
    "import statsmodels.api as sm\n",
    "\n",
    "# 乱数シードを設定して再現性を保つ\n",
    "np.random.seed(42)\n",
    "\n",
    "# 仮想の時系列データを生成 (AR(1)プロセス)\n",
    "# AR(1) パラメータ: φ = 0.8, 定数項 = 0, 標準偏差 = 1\n",
    "phi = 0.8\n",
    "n = 100\n",
    "error = np.random.normal(0, 1, n)\n",
    "time_series = np.zeros(n)\n",
    "time_series1 = np.zeros(n)\n",
    "\n",
    "for i in range(1, n):\n",
    "    if i==1:\n",
    "        time_series[i]=10\n",
    "        time_series1[i]=10\n",
    "    else:\n",
    "        time_series[i] = phi * time_series[i-1] + error[i]*0+14\n",
    "        time_series1[i] = phi * time_series[i-1] + error[i]*0+16\n",
    "\n",
    "# AR(1)モデルをフィット\n",
    "model = sm.tsa.ARIMA(time_series, order=(1, 0, 0))\n",
    "results = model.fit()\n",
    "\n",
    "model1 = sm.tsa.ARIMA(time_series1, order=(1, 0, 0))\n",
    "results1 = model1.fit()\n",
    "\n",
    "# モデルのサマリーを表示\n",
    "results.summary()"
   ]
  },
  {
   "cell_type": "code",
   "execution_count": 46,
   "metadata": {},
   "outputs": [
    {
     "data": {
      "image/png": "[encoded data removed]",
      "text/plain": [
       "<Figure size 1000x600 with 1 Axes>"
      ]
     },
     "metadata": {},
     "output_type": "display_data"
    }
   ],
   "source": [
    "import matplotlib.pyplot as plt\n",
    "\n",
    "# 時系列データのプロット\n",
    "plt.figure(figsize=(10, 6))\n",
    "plt.plot(time_series, label='AR(1) Time Series')\n",
    "plt.plot(time_series1, label='AR(1) Time Series')\n",
    "plt.title('AR(1) Time Series')\n",
    "plt.xlabel('Time')\n",
    "plt.ylabel('Value')\n",
    "plt.legend()\n",
    "plt.grid(True)\n",
    "plt.show()"
   ]
  }
 ],
 "metadata": {
  "kernelspec": {
   "display_name": ".venv",
   "language": "python",
   "name": "python3"
  },
  "language_info": {
   "codemirror_mode": {
    "name": "ipython",
    "version": 3
   },
   "file_extension": ".py",
   "mimetype": "text/x-python",
   "name": "python",
   "nbconvert_exporter": "python",
   "pygments_lexer": "ipython3",
   "version": "3.9.6"
  }
 },
 "nbformat": 4,
 "nbformat_minor": 2
}
