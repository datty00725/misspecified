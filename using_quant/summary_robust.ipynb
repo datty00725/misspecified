{
 "cells": [
  {
   "cell_type": "code",
   "execution_count": 1,
   "metadata": {},
   "outputs": [],
   "source": [
    "import numpy as np\n",
    "import pandas as pd\n",
    "import matplotlib.pyplot as plt\n",
    "\n",
    "%matplotlib inline\n",
    "import matplotlib.pyplot as plt\n",
    "plt.rcParams[\"figure.figsize\"] = (11, 5)  #set default figure size\n",
    "import numpy as np\n",
    "import scipy.linalg as la\n",
    "\n",
    "import quantecon as qe"
   ]
  },
  {
   "cell_type": "code",
   "execution_count": 2,
   "metadata": {},
   "outputs": [],
   "source": [
    "# おまじない\n",
    "%load_ext autoreload\n",
    "%autoreload 2"
   ]
  },
  {
   "cell_type": "code",
   "execution_count": 3,
   "metadata": {},
   "outputs": [],
   "source": [
    "# olrprobust_3はリカッチのif文を削除した\n",
    "# olrprobust_2との相違点は上記があるか、ないか\n",
    "from olrprobust_3_using import olrp,olrprobust,doubleo\n",
    "\n",
    "# olrprobust_2はリカッチのif文有〼\n",
    "# matlabを極力そのまま移し替えた。\n",
    "#from olrprobust_2_using import olrp, olrprobust, doubleo\n",
    "\n",
    "# olrprobust_1はgithubから\n",
    "#from olrprobust_1_using import olrp,olrprobust,doubleo"
   ]
  },
  {
   "cell_type": "code",
   "execution_count": 4,
   "metadata": {},
   "outputs": [],
   "source": [
    "mu_d = 13.0\n",
    "rho = 0.05\n",
    "gan = 9.0\n",
    "c_d = 1.0\n",
    "beta = 0.95\n",
    "\n",
    "R = 1 / beta"
   ]
  },
  {
   "cell_type": "code",
   "execution_count": 5,
   "metadata": {},
   "outputs": [],
   "source": [
    "A = np.array([[1.0, 0.0], [(1.0 - rho) * mu_d, rho]])\n",
    "C = np.array([[0.0], [c_d]])\n",
    "\n",
    "# ここでは使わない\n",
    "G = np.array([[0.0, 1.0]])\n",
    "G_1 = np.array([[1.0, 0.0]])"
   ]
  },
  {
   "cell_type": "markdown",
   "metadata": {},
   "source": [
    "### 2\n",
    "- 家計はlinear state transition lawに従う。\n",
    "$$\n",
    "\\begin{equation}\n",
    "    y_{t+1}=A y_t+B u_t+C \\check{\\epsilon}_{t+1}\n",
    "    \\end{equation}\n",
    "$$\n",
    "\n",
    "- misspecifiedをどう表現するかが問題。\n",
    "- \\epsilonは近似誤差しか表現できない。\n",
    "- そこで以下のように書き換える。\n",
    "$$\n",
    "\\begin{equation}\n",
    "    y_{t+1}=A y_t+B u_t+C\\left(\\epsilon_{t+1}+w_{t+1}\\right) \n",
    "    \\end{equation}\n",
    "$$\n",
    "- $w_{t+1}$を加えることにより動的にmisspecificationを捉えることができる。\n",
    "- 上2式の近さを示すために以下の式がある。\n",
    "$$\n",
    "\\begin{equation}\n",
    "    E_0 \\sum_{t=0}^{\\infty} \\beta^{t+1} w_{t+1}^{\\prime} w_{t+1} \\leq \\eta_0 \n",
    "    \\end{equation}\n",
    "$$"
   ]
  },
  {
   "cell_type": "markdown",
   "metadata": {},
   "source": [
    "### Dynamic programming without model misspecification\n",
    "- 今回考えるのはuncertaintyがない場合なので、使用するのは$y_{t+1}=A y_t+B u_t+C \\check{\\epsilon}_{t+1}$\n",
    "- one-priod ross function を以下で定義。\n",
    "$$\\begin{equation}\n",
    "    r(y, u)=-\\left(y^{\\prime} Q y+u^{\\prime} R u\\right) \\nonumber\n",
    "    \\end{equation}$$\n",
    "\n",
    "- optimal linear regulator problemは以下のように表現される。\n",
    "$$\\begin{equation}\n",
    "    -y_0 P y_0-p=\\max _{\\left\\{u_t\\right\\}_{t=0}^{\\infty}} E_0 \\sum_{t=0}^{\\infty} \\beta^t r\\left(y_t, u_t\\right), \\quad 0<\\beta<1 \n",
    "    \\end{equation}$$\n",
    "\n",
    "- $y^*$を$y$の次の値とすると以下のbellman方程式を意味する。\n",
    "   $$ \\begin{equation}\n",
    "        -y^{\\prime} P y-p=\\max _u E\\left[r(y, u)-\\beta y^{* \\prime} P y^*-\\beta p\\right] \\mid y \n",
    "        \\end{equation}$$\n",
    "\n",
    "\n",
    "    - $P$はriccati方程式のfixed pointで以下のように表現される。\n",
    "    $$P=Q+\\beta A^{\\prime} P A-\\beta^2 A^{\\prime} P B\\left(R+\\beta B^{\\prime} P B\\right)^{-1} B^{\\prime} P A$$\n",
    "    - optimal decision ruleは$u_t=-F y_t$と表され、$F$は以下を満たす。\n",
    "    $$F=\\beta\\left(R+\\beta B^{\\prime} P B\\right)^{-1} B^{\\prime} P A$$\n",
    "    - $P$は反復法を用いて解く。\n",
    "\n",
    "- ここで$p$は$p =\\frac{\\beta}{1-\\beta} \\operatorname{trace} P C C^{\\prime}$で与えられる。\n",
    "    - $C$は$p$にのみ影響し、$P$には関係しない。\n",
    "    - ということは$C \\neq 0$(確率的)、$C = 0$(非確率的)な場面でも$u_t=-F y_t$が適応される\n",
    "    - だからなんやねん"
   ]
  },
  {
   "cell_type": "markdown",
   "metadata": {},
   "source": [
    "### robust control problems\n",
    "- 次にuncertainty付のやつを考えてみよう。$ y_{t+1}=A y_t+B u_t+C\\left(\\epsilon_{t+1}+w_{t+1}\\right) $\n",
    "- これにしたがって以下の効用を最大化するものを考える。\n",
    "    $$\n",
    "    \\max _{\\left\\{u_t\\right\\}_{t=0}^{\\infty}} \\min _{\\left\\{w_{t+1}\\right\\}_{t=0}^{\\infty}} E_0 \\sum_{t=0}^{\\infty} \\beta^t\\left\\{r\\left(y_t, u_t\\right)+\\beta \\theta w_{t+1}^{\\prime} w_{t+1}\\right\\}$$\n",
    " \n",
    "    - $\\theta \\in(\\underline{\\theta},+\\infty]$であるが、これは下限を設定しないと効用を$- \\infty$まで持って行けちゃうから、つまりロバスト性を考える意味がなくなってしまう。\n",
    "\n",
    "- 次に$-y_0^{\\prime} P y_0-p$を効用のvalueとする。\n",
    "- すると前述したものと同様の考え方から以下のベルマン方程式が成立。\n",
    "$$ -y^{\\prime} P y-p=\\max _u \\min _w E\\left\\{r(y, u)+\\theta \\beta w^{\\prime} w-\\beta y^{* \\prime} P y^*-\\beta p\\right\\}$$\n",
    "- 要約すると、ロバスト線形レギュレータがモデルno-uncertaintyを、uncertaintyがあるモデルに置き換えられることを意味している。"
   ]
  },
  {
   "cell_type": "markdown",
   "metadata": {},
   "source": [
    "### Analyzing the Bellman Equation\n",
    "skip"
   ]
  },
  {
   "cell_type": "markdown",
   "metadata": {},
   "source": [
    "###  A simple algorithm\n",
    "- 以下の式を簡単にする。\n",
    "    $$ -y^{\\prime} P y=\\max _u \\min _w E\\left\\{r(y, u)+\\theta \\beta w^{\\prime} w-\\beta y^{* \\prime} P y^*\\right\\}$$\n",
    "\n",
    "\\begin{equation}\n",
    "\\begin{aligned}\n",
    "& \\bar{B}=\\left[\\begin{array}{ll}\n",
    "B & C\n",
    "\\end{array}\\right] \\\\\n",
    "& \\bar{R}=\\left[\\begin{array}{cc}\n",
    "R & 0 \\\\\n",
    "0 & -\\beta \\theta I\n",
    "\\end{array}\\right] \\\\\n",
    "& \\bar{u}_\\iota=\\left[\\begin{array}{c}\n",
    "u_\\iota \\\\\n",
    "w_{\\ell+1}\n",
    "\\end{array}\\right]\n",
    "\\end{aligned}\n",
    "\\end{equation}\n",
    "\n",
    "- したがってベルマン方程式は以下のように書き直すことができる。\n",
    "\\begin{equation}\n",
    "-y^{\\prime} P y=\\operatorname{ext}_{\\tilde{u}}\\left\\{-y^{\\prime} Q y-\\tilde{u}^{\\prime} \\tilde{R} \\tilde{u}-\\beta y^{* \\prime} P y^*\\right\\}\n",
    "\\end{equation}\n",
    "\n",
    "- ricattiは\n",
    "\\begin{equation}\n",
    "P=Q+\\beta A^{\\prime} P A-\\beta^2 A^{\\prime} P \\tilde{B}\\left(\\tilde{R}+\\beta \\tilde{B}^{\\prime} P \\tilde{B}\\right)^{-1} \\tilde{B}^{\\prime} P A\n",
    "\\end{equation}\n",
    "\n",
    "\\begin{equation}\n",
    "\\tilde{F}=\\beta\\left(\\tilde{R}+\\beta \\tilde{B}^{\\prime} P \\tilde{B}\\right)^{-1} \\tilde{B}^{\\prime} P A\n",
    "\\end{equation}\n"
   ]
  },
  {
   "cell_type": "markdown",
   "metadata": {},
   "source": [
    "### permanet income model\n",
    "- 通常このモデルに消費者は疑問を持たないが、ロバスト性を考慮に入れるとある時点において一時的にそのモデルに従わず、独自の行動を取ってしまう。(モデルに疑いを持つということ。)\n",
    "- 言い換えると misspesification のために消費者が将来の収入予測を慎重に行うようになり、endowment の誤差に対する懸念がない場合と比べて消費プロファイルを将来に向けて傾ける形で予防貯蓄を始める。\n",
    "- 要約すると、現在の消費を抑え、貯蓄を増やす行動を取るということ。"
   ]
  },
  {
   "cell_type": "markdown",
   "metadata": {},
   "source": [
    "###  model\n",
    "-  $\\{d_t\\}$のendowmentを受け取り、消費$c_t$と貯蓄$k_t$にうまい具合に割り当てることで最適化を図ろうとし、それは以下の条件を最大化することによって達成される。\n",
    "\\begin{equation}\n",
    "-E_0 \\sum^{\\infty} \\beta^t\\left(c_t-b\\right)^2, \\beta \\in(0,1)\n",
    "\\end{equation}\n",
    "\n",
    "\\begin{align}\n",
    "k_t+c_t & =R k_{t-1}+d_t \\\\ \n",
    "d_{t+1} & =\\mu_d(1-\\rho)+\\rho d_t+c_d\\left(\\epsilon_{t+1}+w_{t+1}\\right)\n",
    "\\end{align}\n",
    "\n",
    "- ポンジ・スキーム->無限借り入れを禁止。\n",
    "\\begin{equation}\n",
    "\\mathbb{E}_0\\left[\\sum_{t=0}^{\\infty} \\beta^t k_t^2\\right]<\\infty\n",
    "\\end{equation}"
   ]
  },
  {
   "cell_type": "markdown",
   "metadata": {},
   "source": [
    "### no-uncertainty\n",
    "- 差分方程式からダイナミックにconsumptionを求めるやり方を示す。\n",
    "- 以前導出したので割愛"
   ]
  },
  {
   "cell_type": "code",
   "execution_count": 6,
   "metadata": {},
   "outputs": [],
   "source": [
    "# Use the above formulas to create the optimal policies for b_{t+1} and c_t\n",
    "\n",
    "b_pol = G @ (np.eye(2, 2) - (R - 1) * beta * la.inv(np.eye(2, 2) - beta * A))\n",
    "\n",
    "# 効用込み\n",
    "c_pol_utility = (R - 1) * (\n",
    "    beta * G @ la.inv(np.eye(2, 2) - beta * A) - gan / (R - 1) * G_1\n",
    ")\n",
    "c_pol_c = (R - 1) * beta * G @ la.inv(np.eye(2, 2) - beta * A)\n",
    "# Create the A matrix for a LinearStateSpace instance\n",
    "A_LSS1 = np.vstack([A, b_pol])\n",
    "A_LSS2 = np.array([0.0, 0.0, 1.0]).reshape(-1, 1)\n",
    "A_LSS = np.hstack([A_LSS1, A_LSS2])\n",
    "\n",
    "# Create the C matrix for LSS methods\n",
    "C_LSS = np.vstack([C, np.zeros(1)])\n",
    "\n",
    "# Create the G_c matrix for LSS methods\n",
    "G_LSS1_c = np.vstack([G, c_pol_c])\n",
    "G_LSS2_c = np.vstack([np.zeros(1), R - 1])\n",
    "G_LSS_c = np.hstack([G_LSS1_c, G_LSS2_c])\n",
    "\n",
    "# Create the G_utirity matrix for LSS methods\n",
    "G_LSS1_uti = np.vstack([G, c_pol_utility])\n",
    "G_LSS2_uti = np.vstack([np.zeros(1), R - 1])\n",
    "G_LSS_uti = np.hstack([G_LSS1_uti, G_LSS2_uti])\n"
   ]
  },
  {
   "cell_type": "code",
   "execution_count": 7,
   "metadata": {},
   "outputs": [
    {
     "data": {
      "text/plain": [
       "array([[3.3175853 , 0.05249344]])"
      ]
     },
     "execution_count": 7,
     "metadata": {},
     "output_type": "execute_result"
    }
   ],
   "source": [
    "c_pol_utility"
   ]
  },
  {
   "cell_type": "markdown",
   "metadata": {},
   "source": [
    "### using LQR\n",
    "- 遷移式を一つにまとめる。\n",
    "\n",
    "\\begin{equation}\n",
    "\\begin{aligned}\n",
    "\\left[\\begin{array}{c}\n",
    "1 \\\\\n",
    "k_t \\\\\n",
    "d_{t+1}\n",
    "\\end{array}\\right]\n",
    "&=\n",
    "\\left[\\begin{array}{ccc}\n",
    "1 & 0 & 0 \\\\\n",
    "-b & R & 1 \\\\\n",
    "(1-\\rho) \\mu_d & 0 & \\rho\n",
    "\\end{array}\\right]\n",
    "\\left[\\begin{array}{c}\n",
    "1 \\\\\n",
    "k_{t-1} \\\\\n",
    "d_t\n",
    "\\end{array}\\right]\n",
    "\\\\\n",
    "&+\n",
    "\\left[\\begin{array}{l}\n",
    "0 \\\\\n",
    "1 \\\\\n",
    "0\n",
    "\\end{array}\\right]\n",
    "(b-c_t)\n",
    "+\n",
    "\\left[\\begin{array}{c}\n",
    "0 \\\\\n",
    "0 \\\\\n",
    "c_d\n",
    "\\end{array}\\right]\n",
    "(\\epsilon_{t+1}+w_{t+1})\n",
    "\\end{aligned}\n",
    "\\end{equation}\n",
    "\n",
    "-  目的関数より、$r(y, u) = -y^T R y - u^T Q u$ と設定する。\n",
    "    - $R=0_{3 \\times 3}$と、$Q=1$である。\n",
    "    - 但しポンジ・スキームに対処できていない為、adding a small entry $\\epsilon>0$ in the $(4,4)$ position of $R$."
   ]
  },
  {
   "cell_type": "code",
   "execution_count": 8,
   "metadata": {},
   "outputs": [],
   "source": [
    "Q = np.array([[0.0, 0.0, 0.0], [0.0, 0.0, 0.0], [0.0, 0.0, 1e-9]])\n",
    "A = np.array([[1.0, 0.0, 0.0], [(1.0 - rho) * mu_d, rho, 0.0], [-gan, 1.0, R]])\n",
    "B = np.array([[0.0], [0.0], [-1.0]])\n",
    "C = np.array([[0.0], [c_d], [0.0]])\n",
    "R_hyouka = np.array([[1]])\n",
    "F_ro2, K_ro2, P_ro2, Pt_ro2 = olrprobust(beta, A, B, C, Q, R_hyouka, -1e-9)"
   ]
  },
  {
   "cell_type": "code",
   "execution_count": 9,
   "metadata": {},
   "outputs": [
    {
     "name": "stdout",
     "output_type": "stream",
     "text": [
      "0.7924226173066341\n"
     ]
    }
   ],
   "source": [
    "iter_t = 150\n",
    "d_0 = 0.0\n",
    "\n",
    "np.random.seed(5)\n",
    "eps = np.random.randn(iter_t)\n",
    "print(eps[100])\n",
    "y = np.array([[1.0, 0.0, 0.0]])\n",
    "# print(y[0])\n",
    "# print(y.shape)\n",
    "ABF_1 = A - np.dot(B, F_ro2)\n",
    "for i in range(iter_t):\n",
    "    # print(i)\n",
    "    # F, K, P, Pt = olrprobust(beta, A, B, C, Q, R_hyouka, sig)\n",
    "    # Tmp = A -np.dot(B,F) + np.dot(C,K)\n",
    "    # print(f\"y = \\n{np.dot(Tmp, y[0].T) + CLQ.T * eps[i]}\")\n",
    "    # print(y)\n",
    "    # print(y.shape)\n",
    "    y = np.insert(y, 0, np.dot(ABF_1, y[0].T) + C.T * eps[i], axis=0)\n",
    "    if i == 0:\n",
    "        y[0][2] = 0\n"
   ]
  },
  {
   "cell_type": "code",
   "execution_count": 10,
   "metadata": {},
   "outputs": [],
   "source": [
    "y_1 = y[::-1]\n",
    "k_get_1 = y[:, 2]\n",
    "d_get_1 = y[:, 1]"
   ]
  },
  {
   "cell_type": "code",
   "execution_count": 11,
   "metadata": {},
   "outputs": [
    {
     "data": {
      "image/png": "[encoded data removed]",
      "text/plain": [
       "<Figure size 650x420 with 1 Axes>"
      ]
     },
     "metadata": {},
     "output_type": "display_data"
    }
   ],
   "source": [
    "c = np.zeros(iter_t + 1)\n",
    "# print(\"c size before %d\"%c.shape)\n",
    "\n",
    "for i in range(1, iter_t):\n",
    "    # print(\"k = %d\"%k_get[(iter_t + 1) * where + i - 1])\n",
    "    # print(i)\n",
    "    # print(y[i])\n",
    "    c[i] = -F_ro2 @ y_1[i] + gan\n",
    "    # print(\"c = %d\"%c[i])\n",
    "\n",
    "# print(c.shape)\n",
    "plt.figure(figsize=[6.5, 4.2])\n",
    "\n",
    "# Plot consumption\n",
    "plt.plot(\n",
    "    np.array(range(1, iter_t)),\n",
    "    c[1:iter_t],\n",
    "    linestyle=\"-\",\n",
    "    label=\"消費\",\n",
    "    color=\"black\",\n",
    ")\n",
    "\n",
    "# Plot endowment\n",
    "plt.plot(\n",
    "    np.array(range(1, iter_t)),\n",
    "    d_get_1[1:iter_t],\n",
    "    linestyle=\"--\",\n",
    "    label=\"初期賦与\",\n",
    "    color=\"black\",\n",
    ")\n",
    "\n",
    "# Plot saving\n",
    "plt.plot(\n",
    "    np.array(range(1, iter_t)),\n",
    "    k_get_1[1:iter_t],\n",
    "    linestyle=\":\",\n",
    "    label=\"貯蓄\",\n",
    "    color=\"black\",\n",
    ")\n",
    "\n",
    "# Legend with specified arguments\n",
    "plt.legend(\n",
    "    loc=\"upper center\",\n",
    "    bbox_to_anchor=(0.5, 1.2),\n",
    "    ncol=3,\n",
    "    prop={\"family\": \"MS Gothic\", \"size\": 10},\n",
    ")\n",
    "plt.xlabel(\"time\", fontsize=10)\n",
    "plt.ylabel(\"消費/初期賦与/貯蓄\", fontname=\"MS Gothic\", fontsize=10)\n",
    "plt.grid()\n",
    "plt.tight_layout()\n"
   ]
  }
 ],
 "metadata": {
  "kernelspec": {
   "display_name": ".venv",
   "language": "python",
   "name": "python3"
  },
  "language_info": {
   "codemirror_mode": {
    "name": "ipython",
    "version": 3
   },
   "file_extension": ".py",
   "mimetype": "text/x-python",
   "name": "python",
   "nbconvert_exporter": "python",
   "pygments_lexer": "ipython3",
   "version": "3.9.6"
  },
  "orig_nbformat": 4
 },
 "nbformat": 4,
 "nbformat_minor": 2
}
