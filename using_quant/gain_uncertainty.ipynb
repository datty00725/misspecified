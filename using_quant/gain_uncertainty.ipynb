{
 "cells": [
  {
   "cell_type": "code",
   "execution_count": 147,
   "metadata": {},
   "outputs": [],
   "source": [
    "import numpy as np\n",
    "import pandas as pd\n",
    "import matplotlib.pyplot as plt\n",
    "\n",
    "%matplotlib inline\n",
    "import matplotlib.pyplot as plt\n",
    "plt.rcParams[\"figure.figsize\"] = (11, 5)  #set default figure size\n",
    "import numpy as np\n",
    "import scipy.linalg as la\n",
    "\n",
    "import quantecon as qe"
   ]
  },
  {
   "cell_type": "code",
   "execution_count": 148,
   "metadata": {},
   "outputs": [
    {
     "name": "stdout",
     "output_type": "stream",
     "text": [
      "The autoreload extension is already loaded. To reload it, use:\n",
      "  %reload_ext autoreload\n"
     ]
    }
   ],
   "source": [
    "# おまじない\n",
    "%load_ext autoreload\n",
    "%autoreload 2"
   ]
  },
  {
   "cell_type": "code",
   "execution_count": 149,
   "metadata": {},
   "outputs": [],
   "source": [
    "# olrprobust_3はリカッチのif文を削除した\n",
    "# olrprobust_2との相違点は上記があるか、ないか\n",
    "from olrprobust_3_using import olrp,olrprobust,doubleo\n",
    "\n",
    "# olrprobust_2はリカッチのif文有〼\n",
    "# matlabを極力そのまま移し替えた。\n",
    "#from olrprobust_2_using import olrp, olrprobust, doubleo\n",
    "\n",
    "# olrprobust_1はgithubから\n",
    "#from olrprobust_1_using import olrp,olrprobust,doubleo"
   ]
  },
  {
   "cell_type": "code",
   "execution_count": 150,
   "metadata": {},
   "outputs": [],
   "source": [
    "# Set parameters\n",
    "mu_d = 13.0\n",
    "rho = 0.05\n",
    "gan = 9.0\n",
    "c_d = 1.0\n",
    "beta = 0.95\n",
    "\n",
    "R = 1 / beta"
   ]
  },
  {
   "cell_type": "code",
   "execution_count": 151,
   "metadata": {},
   "outputs": [],
   "source": [
    "# y=[1 d k]のやつ\n",
    "\n",
    "Q = np.array([[0.0, 0.0, 0.0], [0.0, 0.0, 0.0], [0.0, 0.0, 1e-9]])\n",
    "A = np.array([[1.0, 0.0, 0.0], [(1.0 - rho) * mu_d, rho, 0.0], [-gan, 1.0, R]])\n",
    "B = np.array([[0.0], [0.0], [-1.0]])\n",
    "C = np.array([[0.0], [c_d], [0.0]])\n",
    "R_hyouka = np.array([[1]])\n"
   ]
  },
  {
   "cell_type": "code",
   "execution_count": 152,
   "metadata": {},
   "outputs": [
    {
     "name": "stdout",
     "output_type": "stream",
     "text": [
      "[[-3.31758509 -0.05249346 -0.0526316 ]]\n",
      "0.7924226173066341\n",
      "[ 1.         12.62790506  0.3028189 ]\n",
      "sig= -0.000000001 : welfare= -392.39\n",
      "[[-3.70560377 -0.05863299 -0.05878729]]\n",
      "0.7924226173066341\n",
      "[ 1.         12.62790506 -5.22376986]\n",
      "sig= -0.100000000 : welfare= -395.40\n"
     ]
    },
    {
     "data": {
      "image/png": "[encoded data removed]",
      "text/plain": [
       "<Figure size 650x420 with 1 Axes>"
      ]
     },
     "metadata": {},
     "output_type": "display_data"
    }
   ],
   "source": [
    "iter_t = 150\n",
    "d_0 = 0.0\n",
    "\n",
    "sig_arr=[-1e-9,-1e-1]\n",
    "#sig_arr=[-1e-1,-1]\n",
    "\n",
    "y = np.zeros((1, 3))\n",
    "\n",
    "plt.figure(figsize=[6.5, 4.2])\n",
    "plt.ylim((-50,50))\n",
    "for where, sig in enumerate(sig_arr):\n",
    "    F, K, P, Pt = olrprobust(beta, A, B, C, Q, R_hyouka, sig)\n",
    "    print(F)\n",
    "\n",
    "\n",
    "    np.random.seed(5)\n",
    "    eps = np.random.randn(iter_t)\n",
    "    print(eps[100])\n",
    "    y = np.array([[1.0, 0.0, 0.0]])\n",
    "\n",
    "\n",
    "    ABF = A - np.dot(B, F)\n",
    "    # print(y[0])\n",
    "    # print(y.shape)\n",
    "    for i in range(iter_t):\n",
    "        # print(i)\n",
    "        # F, K, P, Pt = olrprobust(beta, A, B, C, Q, R_hyouka, sig)\n",
    "        # Tmp = A -np.dot(B,F) + np.dot(C,K)\n",
    "        # print(f\"y = \\n{np.dot(Tmp, y[0].T) + CLQ.T * eps[i]}\")\n",
    "        # print(y)\n",
    "        # print(y.shape)\n",
    "        y = np.insert(y, 0, np.dot(ABF, y[0].T) + C.T * eps[i], axis=0)\n",
    "        if i == 0:\n",
    "            y[0][2] = 0\n",
    "\n",
    "    y = y[::-1]\n",
    "\n",
    "    print(y[13])\n",
    "\n",
    "    c = np.zeros(iter_t + 1)\n",
    "    # print(\"c size before %d\"%c.shape)\n",
    "    \n",
    "    for i in range(1, iter_t):\n",
    "        # print(\"k = %d\"%k_get[(iter_t + 1) * where + i - 1])\n",
    "        # print(i)\n",
    "        # print(y[i])\n",
    "        c[i] = -F @ y[i] + gan\n",
    "        # print(\"c = %d\"%c[i])\n",
    "\n",
    "    # print(c.shape)\n",
    "    \n",
    "\n",
    "    # Plot consumption\n",
    "    plt.plot(\n",
    "        np.array(range(1, iter_t)),\n",
    "        c[1:iter_t],\n",
    "        linestyle=\"-\",\n",
    "        label=\"sig=%f\" % sig,\n",
    "    )\n",
    "\n",
    "    # Legend with specified arguments\n",
    "    plt.legend()\n",
    "    #plt.ylim((-50,50))\n",
    "\n",
    "\n",
    "\n",
    "    #welfare\n",
    "    expected_utility = 0\n",
    "    for t in range(len(c)):\n",
    "        u_t=-(c[t]-gan)**2\n",
    "        expected_utility += beta**t * u_t\n",
    "\n",
    "    print(f\"sig= {sig:.9f} : welfare= {expected_utility:.2f}\")\n",
    "    \n"
   ]
  }
 ],
 "metadata": {
  "kernelspec": {
   "display_name": ".venv",
   "language": "python",
   "name": "python3"
  },
  "language_info": {
   "codemirror_mode": {
    "name": "ipython",
    "version": 3
   },
   "file_extension": ".py",
   "mimetype": "text/x-python",
   "name": "python",
   "nbconvert_exporter": "python",
   "pygments_lexer": "ipython3",
   "version": "3.9.6"
  },
  "orig_nbformat": 4
 },
 "nbformat": 4,
 "nbformat_minor": 2
}
