{
 "cells": [
  {
   "cell_type": "code",
   "execution_count": 3,
   "metadata": {},
   "outputs": [
    {
     "name": "stdout",
     "output_type": "stream",
     "text": [
      "The autoreload extension is already loaded. To reload it, use:\n",
      "  %reload_ext autoreload\n",
      "sdfgsdfg\n",
      "sdfgsdfg\n",
      "WARNING: Iteration limit of 1000 reached in OLRP\n"
     ]
    }
   ],
   "source": [
    "import numpy as np\n",
    "import pandas as pd\n",
    "import matplotlib.pyplot as plt\n",
    "import os\n",
    "dirname = \"sotsuken/\"\n",
    "os.makedirs(dirname, exist_ok=True)\n",
    "%matplotlib inline\n",
    "import matplotlib.pyplot as plt\n",
    "\n",
    "plt.rcParams[\"figure.figsize\"] = (11, 5)  #set default figure size\n",
    "import numpy as np\n",
    "import scipy.linalg as la\n",
    "\n",
    "import quantecon as qe\n",
    "# ずっと使ってきたやつ\n",
    "set_parameter = 3\n",
    "\n",
    "# ch10\n",
    "# set_parameter = 2\n",
    "# 効用関数の設定\n",
    "# LQR_util = 2で効用をマイナスに設定\n",
    "# LQR_util = 2ではLQRの重み行列が正定値行列とならず破綻\n",
    "LQR_util = 1\n",
    "if set_parameter == 1:\n",
    "    # Set parameters ずっと使ってきたやつ\n",
    "    mu_d = 13.0\n",
    "    rho = 0.05\n",
    "    gan = 8.0\n",
    "    c_d = 1.0\n",
    "    beta_std = 0.95\n",
    "    R_kinri = 1 / beta_std\n",
    "    ponji = 1e-9\n",
    "elif set_parameter == 2:\n",
    "    # Set parameters in ch10\n",
    "    mu_d = 13.594\n",
    "    rho = 0.241\n",
    "    gan = 500.0\n",
    "    c_d = 0.2\n",
    "    beta_std = 0.997\n",
    "    R_kinri = 1 / beta_std\n",
    "    ponji = 1e-9\n",
    "elif set_parameter == 3:\n",
    "    # 自由に変えていいよ\n",
    "    mu_d = 13.00\n",
    "    rho = 0.6\n",
    "    gan = 8.\n",
    "    c_d = 1.0\n",
    "    #beta_std = 0.9494764430324878\n",
    "    beta_std = 0.9999\n",
    "    R_kinri = 1 / beta_std\n",
    "    ponji = 1e-2\n",
    "sig_arr = [-1e-12, -1e-1]\n",
    "d_first = 0.0\n",
    "k_first = 0.0\n",
    "# uncertaintyあり、なし全ての期間を決定\n",
    "iter_t = 1500\n",
    "iter_uti= iter_t\n",
    "np.random.seed(7)\n",
    "eps = np.random.randn(iter_t)\n",
    "ovr = 50\n",
    "tapple_y = 20\n",
    "y_lim = (-ovr, ovr)\n",
    "# おまじない\n",
    "%load_ext autoreload\n",
    "%autoreload 2\n",
    "# olrprobust_3はリカッチのif文を削除した\n",
    "# olrprobust_2との相違点は上記があるか、ないか\n",
    "from olrprobust_3_using import olrp, olrprobust, doubleo\n",
    "\n",
    "# olrprobust_2はリカッチのif文有〼\n",
    "# matlabを極力そのまま移し替えた。\n",
    "# from olrprobust_2_using import olrp, olrprobust, doubleo\n",
    "\n",
    "# olrprobust_1はgithubから\n",
    "# from olrprobust_1_using import olrp,olrprobust,doubleo\n",
    "# y=[d k]のやつ\n",
    "QLQ_mat = np.array([[0.0, 0.0], [0.0, ponji]])\n",
    "ALQ_mat = np.array(\n",
    "    [[rho, 0.0], [1.0, R_kinri]]\n",
    ")\n",
    "# u=\\gamma - c_tにしたため符号を反転した\n",
    "BLQ_mat = np.array([[0.0], [1.0]])\n",
    "CLQ_mat = np.array([ [c_d], [0.0]])\n",
    "RLQ_mat = np.array([[1]])\n",
    "\n",
    "if LQR_util == 2:\n",
    "    RLQ_mat = -RLQ_mat\n",
    "    QLQ_mat = -QLQ_mat\n",
    "F_nomis_mat, K_nomis_mat, P_nomis_mat, Pt_nomis_mat = olrprobust(\n",
    "    beta_std, ALQ_mat, BLQ_mat, CLQ_mat, QLQ_mat, RLQ_mat, sig_arr[0]\n",
    ")\n"
   ]
  },
  {
   "cell_type": "code",
   "execution_count": 4,
   "metadata": {},
   "outputs": [
    {
     "name": "stdout",
     "output_type": "stream",
     "text": [
      "[[0. 1.]\n",
      " [1. 0.]]\n"
     ]
    }
   ],
   "source": [
    "BtLQ_mat=np.hstack([BLQ_mat,CLQ_mat])\n",
    "print(BtLQ_mat)"
   ]
  },
  {
   "cell_type": "code",
   "execution_count": 5,
   "metadata": {},
   "outputs": [
    {
     "name": "stdout",
     "output_type": "stream",
     "text": [
      "[[0. 1. 0. 0. 0. 0.]\n",
      " [1. 0. 1. 0. 1. 0.]]\n"
     ]
    }
   ],
   "source": [
    "Co=np.hstack([BtLQ_mat,ALQ_mat*BtLQ_mat,ALQ_mat**2*BtLQ_mat])\n",
    "print(Co)"
   ]
  },
  {
   "cell_type": "code",
   "execution_count": 6,
   "metadata": {},
   "outputs": [
    {
     "data": {
      "text/plain": [
       "2"
      ]
     },
     "execution_count": 6,
     "metadata": {},
     "output_type": "execute_result"
    }
   ],
   "source": [
    "np.linalg.matrix_rank(Co)"
   ]
  }
 ],
 "metadata": {
  "kernelspec": {
   "display_name": ".venv",
   "language": "python",
   "name": "python3"
  },
  "language_info": {
   "codemirror_mode": {
    "name": "ipython",
    "version": 3
   },
   "file_extension": ".py",
   "mimetype": "text/x-python",
   "name": "python",
   "nbconvert_exporter": "python",
   "pygments_lexer": "ipython3",
   "version": "3.9.6"
  }
 },
 "nbformat": 4,
 "nbformat_minor": 2
}
